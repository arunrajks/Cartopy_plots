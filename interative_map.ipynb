{
 "cells": [
  {
   "cell_type": "code",
   "execution_count": 6,
   "metadata": {},
   "outputs": [
    {
     "name": "stderr",
     "output_type": "stream",
     "text": [
      "/var/folders/qk/1gnhnhxn2m91qb1gz4tvnd240000gn/T/ipykernel_82889/194627203.py:7: DeprecationWarning: Importing display from IPython.core.display is deprecated since IPython 7.14, please import from IPython display\n",
      "  from IPython.core.display import display, HTML\n"
     ]
    }
   ],
   "source": [
    "import folium\n",
    "from folium import Marker, GeoJson\n",
    "from folium.plugins import HeatMap\n",
    "\n",
    "import pandas as pd\n",
    "import geopandas as gpd\n",
    "from IPython.core.display import display, HTML\n",
    "def embed_map(m, file_name):\n",
    "    from IPython.display import IFrame\n",
    "    m.save(file_name)\n",
    "    return IFrame(file_name, width='100%', height='500px')"
   ]
  },
  {
   "cell_type": "code",
   "execution_count": 7,
   "metadata": {},
   "outputs": [],
   "source": [
    "# def embed_map(m):\n",
    "#     data = m.get_root().render()\n",
    "#     data_fixed_height = data.replace('width: 100%;height: 100%', 'width: 100%').replace('height: 100.0%;', 'height: 609px;', 1)\n",
    "#     display(HTML(data_fixed_height))"
   ]
  },
  {
   "cell_type": "markdown",
   "metadata": {},
   "source": [
    "## Making a buffer zone for the toxic release"
   ]
  },
  {
   "cell_type": "code",
   "execution_count": 8,
   "metadata": {},
   "outputs": [
    {
     "data": {
      "text/html": [
       "<div>\n",
       "<style scoped>\n",
       "    .dataframe tbody tr th:only-of-type {\n",
       "        vertical-align: middle;\n",
       "    }\n",
       "\n",
       "    .dataframe tbody tr th {\n",
       "        vertical-align: top;\n",
       "    }\n",
       "\n",
       "    .dataframe thead th {\n",
       "        text-align: right;\n",
       "    }\n",
       "</style>\n",
       "<table border=\"1\" class=\"dataframe\">\n",
       "  <thead>\n",
       "    <tr style=\"text-align: right;\">\n",
       "      <th></th>\n",
       "      <th>YEAR</th>\n",
       "      <th>CITY</th>\n",
       "      <th>COUNTY</th>\n",
       "      <th>ST</th>\n",
       "      <th>LATITUDE</th>\n",
       "      <th>LONGITUDE</th>\n",
       "      <th>CHEMICAL</th>\n",
       "      <th>UNIT_OF_ME</th>\n",
       "      <th>TOTAL_RELE</th>\n",
       "      <th>geometry</th>\n",
       "    </tr>\n",
       "  </thead>\n",
       "  <tbody>\n",
       "    <tr>\n",
       "      <th>0</th>\n",
       "      <td>2016</td>\n",
       "      <td>PHILADELPHIA</td>\n",
       "      <td>PHILADELPHIA</td>\n",
       "      <td>PA</td>\n",
       "      <td>40.005901</td>\n",
       "      <td>-75.072103</td>\n",
       "      <td>FORMIC ACID</td>\n",
       "      <td>Pounds</td>\n",
       "      <td>0.160</td>\n",
       "      <td>POINT (2718560.227 256380.179)</td>\n",
       "    </tr>\n",
       "    <tr>\n",
       "      <th>1</th>\n",
       "      <td>2016</td>\n",
       "      <td>PHILADELPHIA</td>\n",
       "      <td>PHILADELPHIA</td>\n",
       "      <td>PA</td>\n",
       "      <td>39.920120</td>\n",
       "      <td>-75.146410</td>\n",
       "      <td>ETHYLENE GLYCOL</td>\n",
       "      <td>Pounds</td>\n",
       "      <td>13353.480</td>\n",
       "      <td>POINT (2698674.606 224522.905)</td>\n",
       "    </tr>\n",
       "    <tr>\n",
       "      <th>2</th>\n",
       "      <td>2016</td>\n",
       "      <td>PHILADELPHIA</td>\n",
       "      <td>PHILADELPHIA</td>\n",
       "      <td>PA</td>\n",
       "      <td>40.023880</td>\n",
       "      <td>-75.220450</td>\n",
       "      <td>CERTAIN GLYCOL ETHERS</td>\n",
       "      <td>Pounds</td>\n",
       "      <td>104.135</td>\n",
       "      <td>POINT (2676833.394 261701.856)</td>\n",
       "    </tr>\n",
       "    <tr>\n",
       "      <th>3</th>\n",
       "      <td>2016</td>\n",
       "      <td>PHILADELPHIA</td>\n",
       "      <td>PHILADELPHIA</td>\n",
       "      <td>PA</td>\n",
       "      <td>39.913540</td>\n",
       "      <td>-75.198890</td>\n",
       "      <td>LEAD COMPOUNDS</td>\n",
       "      <td>Pounds</td>\n",
       "      <td>1730.280</td>\n",
       "      <td>POINT (2684030.004 221697.388)</td>\n",
       "    </tr>\n",
       "    <tr>\n",
       "      <th>4</th>\n",
       "      <td>2016</td>\n",
       "      <td>PHILADELPHIA</td>\n",
       "      <td>PHILADELPHIA</td>\n",
       "      <td>PA</td>\n",
       "      <td>39.913540</td>\n",
       "      <td>-75.198890</td>\n",
       "      <td>BENZENE</td>\n",
       "      <td>Pounds</td>\n",
       "      <td>39863.290</td>\n",
       "      <td>POINT (2684030.004 221697.388)</td>\n",
       "    </tr>\n",
       "  </tbody>\n",
       "</table>\n",
       "</div>"
      ],
      "text/plain": [
       "   YEAR          CITY        COUNTY  ST   LATITUDE  LONGITUDE  \\\n",
       "0  2016  PHILADELPHIA  PHILADELPHIA  PA  40.005901 -75.072103   \n",
       "1  2016  PHILADELPHIA  PHILADELPHIA  PA  39.920120 -75.146410   \n",
       "2  2016  PHILADELPHIA  PHILADELPHIA  PA  40.023880 -75.220450   \n",
       "3  2016  PHILADELPHIA  PHILADELPHIA  PA  39.913540 -75.198890   \n",
       "4  2016  PHILADELPHIA  PHILADELPHIA  PA  39.913540 -75.198890   \n",
       "\n",
       "                CHEMICAL UNIT_OF_ME  TOTAL_RELE  \\\n",
       "0            FORMIC ACID     Pounds       0.160   \n",
       "1        ETHYLENE GLYCOL     Pounds   13353.480   \n",
       "2  CERTAIN GLYCOL ETHERS     Pounds     104.135   \n",
       "3         LEAD COMPOUNDS     Pounds    1730.280   \n",
       "4                BENZENE     Pounds   39863.290   \n",
       "\n",
       "                         geometry  \n",
       "0  POINT (2718560.227 256380.179)  \n",
       "1  POINT (2698674.606 224522.905)  \n",
       "2  POINT (2676833.394 261701.856)  \n",
       "3  POINT (2684030.004 221697.388)  \n",
       "4  POINT (2684030.004 221697.388)  "
      ]
     },
     "execution_count": 8,
     "metadata": {},
     "output_type": "execute_result"
    }
   ],
   "source": [
    "releases = gpd.read_file(\"data/toxic_release_pennsylvania/toxic_release_pennsylvania.shp\") \n",
    "releases.head()"
   ]
  },
  {
   "cell_type": "code",
   "execution_count": 9,
   "metadata": {},
   "outputs": [
    {
     "data": {
      "text/html": [
       "\n",
       "        <iframe\n",
       "            width=\"100%\"\n",
       "            height=\"500px\"\n",
       "            src=\"m_1.html\"\n",
       "            frameborder=\"0\"\n",
       "            allowfullscreen\n",
       "            \n",
       "        ></iframe>\n",
       "        "
      ],
      "text/plain": [
       "<IPython.lib.display.IFrame at 0x7fa55035f9d0>"
      ]
     },
     "execution_count": 9,
     "metadata": {},
     "output_type": "execute_result"
    }
   ],
   "source": [
    "m_1=folium.Map(location= (40,-75.2),zoom_start=10)\n",
    "\n",
    "HeatMap(data=releases[['LATITUDE', 'LONGITUDE']], radius=15).add_to(m_1)\n",
    "\n",
    "# Show the map\n",
    "embed_map(m_1,\"m_1.html\")\n"
   ]
  },
  {
   "cell_type": "code",
   "execution_count": null,
   "metadata": {},
   "outputs": [],
   "source": []
  },
  {
   "cell_type": "markdown",
   "metadata": {},
   "source": [
    "### adding a buffer zone arround the leaks"
   ]
  },
  {
   "cell_type": "code",
   "execution_count": 10,
   "metadata": {},
   "outputs": [
    {
     "name": "stderr",
     "output_type": "stream",
     "text": [
      "/Users/arunraj/.local/lib/python3.8/site-packages/pyproj/crs/crs.py:53: FutureWarning: '+init=<authority>:<code>' syntax is deprecated. '<authority>:<code>' is the preferred initialization method. When making the change, be mindful of axis order changes: https://pyproj4.github.io/pyproj/stable/gotchas.html#axis-order-changes-in-proj-6\n",
      "  return _prepare_from_string(\" \".join(pjargs))\n"
     ]
    }
   ],
   "source": [
    "# Select one release location\n",
    "release_loc = releases.iloc[500]\n",
    "release_loc_df=pd.DataFrame({'lon':[release_loc.LONGITUDE],'lat':[release_loc.LATITUDE]})\n",
    "new_gdf = gpd.GeoDataFrame(release_loc_df, geometry=gpd.points_from_xy(release_loc_df.lon, release_loc_df.lat))\n",
    "new_gdf.crs = {'init' :'epsg:4326'}\n",
    "new_gdf = new_gdf.to_crs(epsg=2263)\n",
    "\n",
    "\n",
    "\n",
    "# create a 2km buffer zone around the release\n",
    "\n",
    "two_km_buffer = gpd.GeoDataFrame(geometry=new_gdf.geometry).buffer(10000)\n"
   ]
  },
  {
   "cell_type": "code",
   "execution_count": 11,
   "metadata": {},
   "outputs": [
    {
     "data": {
      "text/html": [
       "\n",
       "        <iframe\n",
       "            width=\"100%\"\n",
       "            height=\"500px\"\n",
       "            src=\"m_2.html\"\n",
       "            frameborder=\"0\"\n",
       "            allowfullscreen\n",
       "            \n",
       "        ></iframe>\n",
       "        "
      ],
      "text/plain": [
       "<IPython.lib.display.IFrame at 0x7fa5502e26d0>"
      ]
     },
     "execution_count": 11,
     "metadata": {},
     "output_type": "execute_result"
    }
   ],
   "source": [
    "# Create map with release incidents and buffer zone\n",
    "\n",
    "m_2 = folium.Map(location=[39.9526,-75.1652], zoom_start=11)\n",
    "HeatMap(data=releases[['LATITUDE', 'LONGITUDE']], radius=15).add_to(m_2)\n",
    "\n",
    "Marker([release_loc['LATITUDE'], release_loc['LONGITUDE']],popup='release location').add_to(m_2)\n",
    "    \n",
    "# Plot the buffer zone on the map\n",
    "GeoJson(two_km_buffer.to_crs(epsg=4326)).add_to(m_2)\n",
    "embed_map(m_2,\"m_2.html\")"
   ]
  },
  {
   "cell_type": "code",
   "execution_count": null,
   "metadata": {},
   "outputs": [],
   "source": []
  },
  {
   "cell_type": "code",
   "execution_count": null,
   "metadata": {},
   "outputs": [],
   "source": []
  },
  {
   "cell_type": "code",
   "execution_count": null,
   "metadata": {},
   "outputs": [],
   "source": []
  }
 ],
 "metadata": {
  "kernelspec": {
   "display_name": "base",
   "language": "python",
   "name": "python3"
  },
  "language_info": {
   "codemirror_mode": {
    "name": "ipython",
    "version": 3
   },
   "file_extension": ".py",
   "mimetype": "text/x-python",
   "name": "python",
   "nbconvert_exporter": "python",
   "pygments_lexer": "ipython3",
   "version": "3.8.16"
  },
  "orig_nbformat": 4
 },
 "nbformat": 4,
 "nbformat_minor": 2
}
